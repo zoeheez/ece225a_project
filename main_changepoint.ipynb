{
 "cells": [
  {
   "cell_type": "code",
   "execution_count": 1,
   "metadata": {},
   "outputs": [],
   "source": [
    "import time\n",
    "import os\n",
    "import os.path as op\n",
    "\n",
    "import numpy as np\n",
    "import pandas as pd\n",
    "import glob\n",
    "import pickle\n",
    "\n",
    "import scipy as sp\n",
    "from scipy import stats\n",
    "import scipy.optimize as so\n",
    "\n",
    "import seaborn as sns\n",
    "import matplotlib.pyplot as plt\n",
    "\n",
    "\n",
    "# model packages\n",
    "from sklearn.model_selection import train_test_split\n",
    "from sklearn.linear_model import LogisticRegression\n",
    "\n",
    "# statsmodels\n",
    "import statsmodels.api as sm\n",
    "import statsmodels.tools as sd\n",
    "\n"
   ]
  },
  {
   "cell_type": "code",
   "execution_count": 2,
   "metadata": {},
   "outputs": [
    {
     "name": "stdout",
     "output_type": "stream",
     "text": [
      "project directory: /Users/zoehe/Documents/GitHub/cbandit_23\n",
      "[ 1  2  3  4  6  8 10 11 12 13 14 16 19 20 21 22 23 24 25 26 27 28 29 30\n",
      " 31 32 33 34 35 36 37 38 39 40 41 43 44 45 47 48 49 50 51 52 53 54 55 56\n",
      " 57 58 59 60]\n",
      "52\n",
      "number of valid subjects:  51\n",
      "valid subjects:  [ 1  2  3  4  6  8 10 11 12 13 14 16 19 20 21 22 23 24 25 26 27 28 29 30\n",
      " 31 32 33 34 36 37 38 39 40 41 43 44 45 47 48 49 50 51 52 53 54 55 56 57\n",
      " 58 59 60]\n"
     ]
    }
   ],
   "source": [
    "# import all pkl files \n",
    "\n",
    "# get the project directory (cbandit)\n",
    "proj_dir = os.path.normpath(os.getcwd()) #+ os.sep + os.pardir)\n",
    "print(f'project directory: {proj_dir}')\n",
    "\n",
    "f_data_all = open(proj_dir+\"/joint_data_all_new2.pkl\",\"rb\")\n",
    "joint_data_by_session = pickle.load(f_data_all)\n",
    "\n",
    "f_data_by_sub = open(proj_dir+\"/joint_data_by_sub.pkl\",\"rb\")\n",
    "joint_data_by_sub = pickle.load(f_data_by_sub)\n",
    "\n",
    "data_ff = pd.read_pickle('outputs_ff.p')\n",
    "\n",
    "# define global values\n",
    "\n",
    "# number of sessions per subject\n",
    "nsess = 8 \n",
    "\n",
    "# the valid subjects (delete invalid subjects)\n",
    "valid_sub_temp = np.array(data_ff['subnums'])[:-2]\n",
    "print(valid_sub_temp)\n",
    "print(len(valid_sub_temp))\n",
    "valid_sub_temp = np.delete(valid_sub_temp, np.where(valid_sub_temp == 35)[0][0])\n",
    "#valid_sub_new = np.delete(valid_sub_temp, [17,18]) # delete sub 24, 25\n",
    "#valid_sub_new_new = np.delete(valid_sub_new, 23)\n",
    "\n",
    "valid_sub = valid_sub_temp #valid_sub_new_new\n",
    "print('number of valid subjects: ', len(valid_sub))\n",
    "print('valid subjects: ', valid_sub)\n"
   ]
  },
  {
   "cell_type": "code",
   "execution_count": 7,
   "metadata": {},
   "outputs": [
    {
     "data": {
      "text/plain": [
       "Index(['level_0', 'index', 'trial', 'rt', 'pupil_baseline_start',\n",
       "       'pupil_baseline_outcome', 'pupil_size_pre_response',\n",
       "       'pupil_size_avg_pre_response', 'pupil_size_response',\n",
       "       'pupil_size_avg_response', 'pupil_size_outcome',\n",
       "       'pupil_size_avg_outcome', 'pupil_baseline_start_avg',\n",
       "       'pupil_baseline_outcome_avg', 'pupil_change_pre_response',\n",
       "       'pupil_change_avg_pre_response', 'pupil_change_response',\n",
       "       'pupil_change_avg_response', 'pupil_change_outcome',\n",
       "       'pupil_change_avg_outcome', 'pupil_change_avg_outcome1',\n",
       "       'pupil_change_avg_outcome2', 'pupil_change_avg_outcome_nassar',\n",
       "       'pupil_change_avg_outcome3', 'pupil_change_avg_response_nassar',\n",
       "       'pupil_change_avg_response3', 'rt_next', 'trial', 'choices',\n",
       "       'choices_new', 'outcomes', 'mean_A', 'mean_B', 'mean_chosen',\n",
       "       'mean_unchosen', 'forced', 'free', 'valid', 'SD', 'changepoints',\n",
       "       'trial', 'RPE', 'ER_chosen_before', 'ER_chosen_after',\n",
       "       'EU_chosen_before', 'EU_chosen_after', 'UU_chosen_before',\n",
       "       'UU_chosen_after', 'ER_sum_before', 'ER_sum_after', 'EU_sum_before',\n",
       "       'EU_sum_after', 'UU_sum_before', 'UU_sum_after', 'ER_diff_before',\n",
       "       'ER_diff_after', 'EU_diff_before', 'EU_diff_after', 'UU_diff_before',\n",
       "       'UU_diff_after', 'switch', 'switch_next', 'outcome_change',\n",
       "       'trial_after_forced', 'trial_after_cp', 'trial_forced', 'trial_num',\n",
       "       'RPE_before', 'sess'],\n",
       "      dtype='object')"
      ]
     },
     "execution_count": 7,
     "metadata": {},
     "output_type": "execute_result"
    }
   ],
   "source": [
    "joint_data_by_sub['sub1'].columns"
   ]
  },
  {
   "cell_type": "code",
   "execution_count": null,
   "metadata": {},
   "outputs": [],
   "source": [
    "# a method to find all the segment of trials around the change points (given the trial range)\n",
    "\n",
    "get "
   ]
  },
  {
   "cell_type": "code",
   "execution_count": null,
   "metadata": {},
   "outputs": [],
   "source": [
    "for sub in valid_sub:\n",
    "    sub_data = joint_data_by_sub[f'sub{sub}']\n",
    "    "
   ]
  }
 ],
 "metadata": {
  "interpreter": {
   "hash": "ca0cbf456bc854bc904e18e689c27b4ef8549121c1c0e39ef924da594c4685a0"
  },
  "kernelspec": {
   "display_name": "Python 3.11.5 ('base')",
   "language": "python",
   "name": "python3"
  },
  "language_info": {
   "codemirror_mode": {
    "name": "ipython",
    "version": 3
   },
   "file_extension": ".py",
   "mimetype": "text/x-python",
   "name": "python",
   "nbconvert_exporter": "python",
   "pygments_lexer": "ipython3",
   "version": "3.11.5"
  },
  "orig_nbformat": 4
 },
 "nbformat": 4,
 "nbformat_minor": 2
}
